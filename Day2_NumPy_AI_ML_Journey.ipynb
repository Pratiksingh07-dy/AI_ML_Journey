{
 "cells": [
  {
   "cell_type": "markdown",
   "id": "05c6b22b",
   "metadata": {},
   "source": [
    "# Day 2: NumPy Basics - AI/ML Journey\n",
    "Learn NumPy step by step with explanations and code examples."
   ]
  },
  {
   "cell_type": "code",
   "execution_count": null,
   "id": "c5574251",
   "metadata": {},
   "outputs": [],
   "source": [
    "import numpy as np\n",
    "print(\"NumPy Imported Successfully\")"
   ]
  },
  {
   "cell_type": "markdown",
   "id": "ac57135d",
   "metadata": {},
   "source": [
    "## 1. Creating Arrays"
   ]
  },
  {
   "cell_type": "code",
   "execution_count": null,
   "id": "f132249e",
   "metadata": {},
   "outputs": [],
   "source": [
    "a = np.array([1, 2, 3])\n",
    "b = np.array([[1, 2], [3, 4]])\n",
    "print(\"1D Array:\", a)\n",
    "print(\"2D Array:\\n\", b)"
   ]
  },
  {
   "cell_type": "markdown",
   "id": "7f9a10f3",
   "metadata": {},
   "source": [
    "## 2. Array Properties"
   ]
  },
  {
   "cell_type": "code",
   "execution_count": null,
   "id": "d3330de1",
   "metadata": {},
   "outputs": [],
   "source": [
    "print(\"Dimensions:\", b.ndim)\n",
    "print(\"Shape:\", b.shape)\n",
    "print(\"Data Type:\", b.dtype)\n",
    "print(\"Size:\", b.size)"
   ]
  },
  {
   "cell_type": "markdown",
   "id": "3e9b3d06",
   "metadata": {},
   "source": [
    "## 3. Array Operations"
   ]
  },
  {
   "cell_type": "code",
   "execution_count": null,
   "id": "630afe1d",
   "metadata": {},
   "outputs": [],
   "source": [
    "x = np.array([10, 20, 30])\n",
    "y = np.array([1, 2, 3])\n",
    "print(\"Addition:\", x + y)\n",
    "print(\"Multiplication:\", x * y)\n",
    "print(\"Mean:\", x.mean())"
   ]
  },
  {
   "cell_type": "markdown",
   "id": "2c2a1c53",
   "metadata": {},
   "source": [
    "## 4. Reshape Arrays"
   ]
  },
  {
   "cell_type": "code",
   "execution_count": null,
   "id": "39114c62",
   "metadata": {},
   "outputs": [],
   "source": [
    "arr = np.array([1, 2, 3, 4, 5, 6])\n",
    "reshaped = arr.reshape(2, 3)\n",
    "print(\"Reshaped Array:\\n\", reshaped)"
   ]
  },
  {
   "cell_type": "markdown",
   "id": "4b428f90",
   "metadata": {},
   "source": [
    "## 5. Indexing and Slicing"
   ]
  },
  {
   "cell_type": "code",
   "execution_count": null,
   "id": "cd652c1a",
   "metadata": {},
   "outputs": [],
   "source": [
    "data = np.array([[10, 20], [30, 40], [50, 60]])\n",
    "print(\"Element [1][0]:\", data[1][0])\n",
    "print(\"First Two Rows:\\n\", data[0:2])"
   ]
  },
  {
   "cell_type": "markdown",
   "id": "8b9bd7f8",
   "metadata": {},
   "source": [
    "## 6. Special Arrays"
   ]
  },
  {
   "cell_type": "code",
   "execution_count": null,
   "id": "05b7644c",
   "metadata": {},
   "outputs": [],
   "source": [
    "print(np.zeros((2, 3)))\n",
    "print(np.ones((2, 2)))\n",
    "print(np.arange(0, 10, 2))\n",
    "print(np.linspace(0, 1, 5))"
   ]
  },
  {
   "cell_type": "markdown",
   "id": "e6d1fc94",
   "metadata": {},
   "source": [
    "## 7. Axis Parameter (Row vs Column Operations)"
   ]
  },
  {
   "cell_type": "code",
   "execution_count": null,
   "id": "66b1d611",
   "metadata": {},
   "outputs": [],
   "source": [
    "arr2D = np.array([[1, 2], [3, 4]])\n",
    "print(\"Row-wise Sum:\", arr2D.sum(axis=1))\n",
    "print(\"Column-wise Sum:\", arr2D.sum(axis=0))"
   ]
  },
  {
   "cell_type": "markdown",
   "id": "511a52b7",
   "metadata": {},
   "source": [
    "## 8. Type Conversion"
   ]
  },
  {
   "cell_type": "code",
   "execution_count": null,
   "id": "e3424bd8",
   "metadata": {},
   "outputs": [],
   "source": [
    "arr = np.array([1, 2, 3])\n",
    "float_arr = arr.astype(float)\n",
    "print(\"Converted Array:\", float_arr)\n",
    "print(\"New Data Type:\", float_arr.dtype)"
   ]
  },
  {
   "cell_type": "markdown",
   "id": "2830f70b",
   "metadata": {},
   "source": [
    "## ✅ Practice Challenge"
   ]
  },
  {
   "cell_type": "code",
   "execution_count": null,
   "id": "1da0b358",
   "metadata": {},
   "outputs": [],
   "source": [
    "nums = np.array([10, 15, 20, 25, 30])\n",
    "print(\"Mean:\", nums.mean())\n",
    "print(\"Max:\", nums.max())\n",
    "print(\"Min:\", nums.min())\n",
    "print(\"Reshaped:\\n\", nums.reshape(5, 1))"
   ]
  }
 ],
 "metadata": {},
 "nbformat": 4,
 "nbformat_minor": 5
}
